{
 "cells": [
  {
   "cell_type": "markdown",
   "metadata": {},
   "source": [
    "\n",
    "# Studying COVID-19 case in Italy from 24th Feb till 19th March across all the affected regions."
   ]
  },
  {
   "cell_type": "markdown",
   "metadata": {},
   "source": [
    "Importing necessary library"
   ]
  },
  {
   "cell_type": "code",
   "execution_count": 2,
   "metadata": {},
   "outputs": [],
   "source": [
    "import numpy as np\n",
    "import pandas as pd\n",
    "import matplotlib.pyplot as plt\n",
    "import seaborn as sns"
   ]
  },
  {
   "cell_type": "markdown",
   "metadata": {},
   "source": [
    "# Import the data set"
   ]
  },
  {
   "cell_type": "code",
   "execution_count": 5,
   "metadata": {},
   "outputs": [
    {
     "data": {
      "text/html": [
       "<div>\n",
       "<style scoped>\n",
       "    .dataframe tbody tr th:only-of-type {\n",
       "        vertical-align: middle;\n",
       "    }\n",
       "\n",
       "    .dataframe tbody tr th {\n",
       "        vertical-align: top;\n",
       "    }\n",
       "\n",
       "    .dataframe thead th {\n",
       "        text-align: right;\n",
       "    }\n",
       "</style>\n",
       "<table border=\"1\" class=\"dataframe\">\n",
       "  <thead>\n",
       "    <tr style=\"text-align: right;\">\n",
       "      <th></th>\n",
       "      <th>SNo</th>\n",
       "      <th>Date</th>\n",
       "      <th>Country</th>\n",
       "      <th>RegionCode</th>\n",
       "      <th>RegionName</th>\n",
       "      <th>ProvinceCode</th>\n",
       "      <th>ProvinceName</th>\n",
       "      <th>ProvinceAbbreviation</th>\n",
       "      <th>Latitude</th>\n",
       "      <th>Longitude</th>\n",
       "      <th>TotalPositiveCases</th>\n",
       "      <th>Unnamed: 11</th>\n",
       "    </tr>\n",
       "  </thead>\n",
       "  <tbody>\n",
       "    <tr>\n",
       "      <td>0</td>\n",
       "      <td>0.0</td>\n",
       "      <td>24-02-2020 18:00</td>\n",
       "      <td>ITA</td>\n",
       "      <td>13.0</td>\n",
       "      <td>Abruzzo</td>\n",
       "      <td>69.0</td>\n",
       "      <td>Chieti</td>\n",
       "      <td>CH</td>\n",
       "      <td>42.351032</td>\n",
       "      <td>14.167546</td>\n",
       "      <td>0</td>\n",
       "      <td>NaN</td>\n",
       "    </tr>\n",
       "    <tr>\n",
       "      <td>1</td>\n",
       "      <td>1.0</td>\n",
       "      <td>24-02-2020 18:00</td>\n",
       "      <td>ITA</td>\n",
       "      <td>13.0</td>\n",
       "      <td>Abruzzo</td>\n",
       "      <td>66.0</td>\n",
       "      <td>L'Aquila</td>\n",
       "      <td>AQ</td>\n",
       "      <td>42.351222</td>\n",
       "      <td>13.398438</td>\n",
       "      <td>0</td>\n",
       "      <td>NaN</td>\n",
       "    </tr>\n",
       "    <tr>\n",
       "      <td>2</td>\n",
       "      <td>2.0</td>\n",
       "      <td>24-02-2020 18:00</td>\n",
       "      <td>ITA</td>\n",
       "      <td>13.0</td>\n",
       "      <td>Abruzzo</td>\n",
       "      <td>68.0</td>\n",
       "      <td>Pescara</td>\n",
       "      <td>PE</td>\n",
       "      <td>42.464584</td>\n",
       "      <td>14.213648</td>\n",
       "      <td>0</td>\n",
       "      <td>NaN</td>\n",
       "    </tr>\n",
       "    <tr>\n",
       "      <td>3</td>\n",
       "      <td>3.0</td>\n",
       "      <td>24-02-2020 18:00</td>\n",
       "      <td>ITA</td>\n",
       "      <td>13.0</td>\n",
       "      <td>Abruzzo</td>\n",
       "      <td>67.0</td>\n",
       "      <td>Teramo</td>\n",
       "      <td>TE</td>\n",
       "      <td>42.658918</td>\n",
       "      <td>13.704400</td>\n",
       "      <td>0</td>\n",
       "      <td>NaN</td>\n",
       "    </tr>\n",
       "    <tr>\n",
       "      <td>4</td>\n",
       "      <td>4.0</td>\n",
       "      <td>24-02-2020 18:00</td>\n",
       "      <td>ITA</td>\n",
       "      <td>13.0</td>\n",
       "      <td>Abruzzo</td>\n",
       "      <td>979.0</td>\n",
       "      <td>In fase di definizione/aggiornamento</td>\n",
       "      <td>NaN</td>\n",
       "      <td>0.000000</td>\n",
       "      <td>0.000000</td>\n",
       "      <td>0</td>\n",
       "      <td>NaN</td>\n",
       "    </tr>\n",
       "    <tr>\n",
       "      <td>...</td>\n",
       "      <td>...</td>\n",
       "      <td>...</td>\n",
       "      <td>...</td>\n",
       "      <td>...</td>\n",
       "      <td>...</td>\n",
       "      <td>...</td>\n",
       "      <td>...</td>\n",
       "      <td>...</td>\n",
       "      <td>...</td>\n",
       "      <td>...</td>\n",
       "      <td>...</td>\n",
       "      <td>...</td>\n",
       "    </tr>\n",
       "    <tr>\n",
       "      <td>3196</td>\n",
       "      <td>3196.0</td>\n",
       "      <td>19-03-2020 17:00</td>\n",
       "      <td>ITA</td>\n",
       "      <td>5.0</td>\n",
       "      <td>Veneto</td>\n",
       "      <td>27.0</td>\n",
       "      <td>Venezia</td>\n",
       "      <td>VE</td>\n",
       "      <td>45.434905</td>\n",
       "      <td>12.338452</td>\n",
       "      <td>475</td>\n",
       "      <td>NaN</td>\n",
       "    </tr>\n",
       "    <tr>\n",
       "      <td>3197</td>\n",
       "      <td>3197.0</td>\n",
       "      <td>19-03-2020 17:00</td>\n",
       "      <td>ITA</td>\n",
       "      <td>5.0</td>\n",
       "      <td>Veneto</td>\n",
       "      <td>23.0</td>\n",
       "      <td>Verona</td>\n",
       "      <td>VR</td>\n",
       "      <td>45.438390</td>\n",
       "      <td>10.993527</td>\n",
       "      <td>686</td>\n",
       "      <td>NaN</td>\n",
       "    </tr>\n",
       "    <tr>\n",
       "      <td>3198</td>\n",
       "      <td>3198.0</td>\n",
       "      <td>19-03-2020 17:00</td>\n",
       "      <td>ITA</td>\n",
       "      <td>5.0</td>\n",
       "      <td>Veneto</td>\n",
       "      <td>24.0</td>\n",
       "      <td>Vicenza</td>\n",
       "      <td>VI</td>\n",
       "      <td>45.547497</td>\n",
       "      <td>11.545971</td>\n",
       "      <td>424</td>\n",
       "      <td>NaN</td>\n",
       "    </tr>\n",
       "    <tr>\n",
       "      <td>3199</td>\n",
       "      <td>3199.0</td>\n",
       "      <td>19-03-2020 17:00</td>\n",
       "      <td>ITA</td>\n",
       "      <td>5.0</td>\n",
       "      <td>Veneto</td>\n",
       "      <td>999.0</td>\n",
       "      <td>In fase di definizione/aggiornamento</td>\n",
       "      <td>NaN</td>\n",
       "      <td>0.000000</td>\n",
       "      <td>0.000000</td>\n",
       "      <td>136</td>\n",
       "      <td>NaN</td>\n",
       "    </tr>\n",
       "    <tr>\n",
       "      <td>3200</td>\n",
       "      <td>NaN</td>\n",
       "      <td>NaN</td>\n",
       "      <td>NaN</td>\n",
       "      <td>NaN</td>\n",
       "      <td>NaN</td>\n",
       "      <td>NaN</td>\n",
       "      <td>NaN</td>\n",
       "      <td>NaN</td>\n",
       "      <td>NaN</td>\n",
       "      <td>NaN</td>\n",
       "      <td>281155</td>\n",
       "      <td>NaN</td>\n",
       "    </tr>\n",
       "  </tbody>\n",
       "</table>\n",
       "<p>3201 rows × 12 columns</p>\n",
       "</div>"
      ],
      "text/plain": [
       "         SNo              Date Country  RegionCode RegionName  ProvinceCode  \\\n",
       "0        0.0  24-02-2020 18:00     ITA        13.0    Abruzzo          69.0   \n",
       "1        1.0  24-02-2020 18:00     ITA        13.0    Abruzzo          66.0   \n",
       "2        2.0  24-02-2020 18:00     ITA        13.0    Abruzzo          68.0   \n",
       "3        3.0  24-02-2020 18:00     ITA        13.0    Abruzzo          67.0   \n",
       "4        4.0  24-02-2020 18:00     ITA        13.0    Abruzzo         979.0   \n",
       "...      ...               ...     ...         ...        ...           ...   \n",
       "3196  3196.0  19-03-2020 17:00     ITA         5.0     Veneto          27.0   \n",
       "3197  3197.0  19-03-2020 17:00     ITA         5.0     Veneto          23.0   \n",
       "3198  3198.0  19-03-2020 17:00     ITA         5.0     Veneto          24.0   \n",
       "3199  3199.0  19-03-2020 17:00     ITA         5.0     Veneto         999.0   \n",
       "3200     NaN               NaN     NaN         NaN        NaN           NaN   \n",
       "\n",
       "                              ProvinceName ProvinceAbbreviation   Latitude  \\\n",
       "0                                   Chieti                   CH  42.351032   \n",
       "1                                 L'Aquila                   AQ  42.351222   \n",
       "2                                  Pescara                   PE  42.464584   \n",
       "3                                   Teramo                   TE  42.658918   \n",
       "4     In fase di definizione/aggiornamento                  NaN   0.000000   \n",
       "...                                    ...                  ...        ...   \n",
       "3196                               Venezia                   VE  45.434905   \n",
       "3197                                Verona                   VR  45.438390   \n",
       "3198                               Vicenza                   VI  45.547497   \n",
       "3199  In fase di definizione/aggiornamento                  NaN   0.000000   \n",
       "3200                                   NaN                  NaN        NaN   \n",
       "\n",
       "      Longitude  TotalPositiveCases  Unnamed: 11  \n",
       "0     14.167546                   0          NaN  \n",
       "1     13.398438                   0          NaN  \n",
       "2     14.213648                   0          NaN  \n",
       "3     13.704400                   0          NaN  \n",
       "4      0.000000                   0          NaN  \n",
       "...         ...                 ...          ...  \n",
       "3196  12.338452                 475          NaN  \n",
       "3197  10.993527                 686          NaN  \n",
       "3198  11.545971                 424          NaN  \n",
       "3199   0.000000                 136          NaN  \n",
       "3200        NaN              281155          NaN  \n",
       "\n",
       "[3201 rows x 12 columns]"
      ]
     },
     "execution_count": 5,
     "metadata": {},
     "output_type": "execute_result"
    }
   ],
   "source": [
    "df=pd.read_csv('covid19_italy_province.csv')\n",
    "df"
   ]
  },
  {
   "cell_type": "code",
   "execution_count": 4,
   "metadata": {},
   "outputs": [
    {
     "data": {
      "text/html": [
       "<div>\n",
       "<style scoped>\n",
       "    .dataframe tbody tr th:only-of-type {\n",
       "        vertical-align: middle;\n",
       "    }\n",
       "\n",
       "    .dataframe tbody tr th {\n",
       "        vertical-align: top;\n",
       "    }\n",
       "\n",
       "    .dataframe thead th {\n",
       "        text-align: right;\n",
       "    }\n",
       "</style>\n",
       "<table border=\"1\" class=\"dataframe\">\n",
       "  <thead>\n",
       "    <tr style=\"text-align: right;\">\n",
       "      <th></th>\n",
       "      <th>SNo</th>\n",
       "      <th>Date</th>\n",
       "      <th>Country</th>\n",
       "      <th>RegionCode</th>\n",
       "      <th>RegionName</th>\n",
       "      <th>ProvinceCode</th>\n",
       "      <th>ProvinceName</th>\n",
       "      <th>ProvinceAbbreviation</th>\n",
       "      <th>Latitude</th>\n",
       "      <th>Longitude</th>\n",
       "      <th>TotalPositiveCases</th>\n",
       "      <th>Unnamed: 11</th>\n",
       "    </tr>\n",
       "  </thead>\n",
       "  <tbody>\n",
       "    <tr>\n",
       "      <td>0</td>\n",
       "      <td>0.0</td>\n",
       "      <td>24-02-2020 18:00</td>\n",
       "      <td>ITA</td>\n",
       "      <td>13.0</td>\n",
       "      <td>Abruzzo</td>\n",
       "      <td>69.0</td>\n",
       "      <td>Chieti</td>\n",
       "      <td>CH</td>\n",
       "      <td>42.351032</td>\n",
       "      <td>14.167546</td>\n",
       "      <td>0</td>\n",
       "      <td>NaN</td>\n",
       "    </tr>\n",
       "    <tr>\n",
       "      <td>1</td>\n",
       "      <td>1.0</td>\n",
       "      <td>24-02-2020 18:00</td>\n",
       "      <td>ITA</td>\n",
       "      <td>13.0</td>\n",
       "      <td>Abruzzo</td>\n",
       "      <td>66.0</td>\n",
       "      <td>L'Aquila</td>\n",
       "      <td>AQ</td>\n",
       "      <td>42.351222</td>\n",
       "      <td>13.398438</td>\n",
       "      <td>0</td>\n",
       "      <td>NaN</td>\n",
       "    </tr>\n",
       "    <tr>\n",
       "      <td>2</td>\n",
       "      <td>2.0</td>\n",
       "      <td>24-02-2020 18:00</td>\n",
       "      <td>ITA</td>\n",
       "      <td>13.0</td>\n",
       "      <td>Abruzzo</td>\n",
       "      <td>68.0</td>\n",
       "      <td>Pescara</td>\n",
       "      <td>PE</td>\n",
       "      <td>42.464584</td>\n",
       "      <td>14.213648</td>\n",
       "      <td>0</td>\n",
       "      <td>NaN</td>\n",
       "    </tr>\n",
       "    <tr>\n",
       "      <td>3</td>\n",
       "      <td>3.0</td>\n",
       "      <td>24-02-2020 18:00</td>\n",
       "      <td>ITA</td>\n",
       "      <td>13.0</td>\n",
       "      <td>Abruzzo</td>\n",
       "      <td>67.0</td>\n",
       "      <td>Teramo</td>\n",
       "      <td>TE</td>\n",
       "      <td>42.658918</td>\n",
       "      <td>13.704400</td>\n",
       "      <td>0</td>\n",
       "      <td>NaN</td>\n",
       "    </tr>\n",
       "    <tr>\n",
       "      <td>4</td>\n",
       "      <td>4.0</td>\n",
       "      <td>24-02-2020 18:00</td>\n",
       "      <td>ITA</td>\n",
       "      <td>13.0</td>\n",
       "      <td>Abruzzo</td>\n",
       "      <td>979.0</td>\n",
       "      <td>In fase di definizione/aggiornamento</td>\n",
       "      <td>NaN</td>\n",
       "      <td>0.000000</td>\n",
       "      <td>0.000000</td>\n",
       "      <td>0</td>\n",
       "      <td>NaN</td>\n",
       "    </tr>\n",
       "  </tbody>\n",
       "</table>\n",
       "</div>"
      ],
      "text/plain": [
       "   SNo              Date Country  RegionCode RegionName  ProvinceCode  \\\n",
       "0  0.0  24-02-2020 18:00     ITA        13.0    Abruzzo          69.0   \n",
       "1  1.0  24-02-2020 18:00     ITA        13.0    Abruzzo          66.0   \n",
       "2  2.0  24-02-2020 18:00     ITA        13.0    Abruzzo          68.0   \n",
       "3  3.0  24-02-2020 18:00     ITA        13.0    Abruzzo          67.0   \n",
       "4  4.0  24-02-2020 18:00     ITA        13.0    Abruzzo         979.0   \n",
       "\n",
       "                           ProvinceName ProvinceAbbreviation   Latitude  \\\n",
       "0                                Chieti                   CH  42.351032   \n",
       "1                              L'Aquila                   AQ  42.351222   \n",
       "2                               Pescara                   PE  42.464584   \n",
       "3                                Teramo                   TE  42.658918   \n",
       "4  In fase di definizione/aggiornamento                  NaN   0.000000   \n",
       "\n",
       "   Longitude  TotalPositiveCases  Unnamed: 11  \n",
       "0  14.167546                   0          NaN  \n",
       "1  13.398438                   0          NaN  \n",
       "2  14.213648                   0          NaN  \n",
       "3  13.704400                   0          NaN  \n",
       "4   0.000000                   0          NaN  "
      ]
     },
     "execution_count": 4,
     "metadata": {},
     "output_type": "execute_result"
    }
   ],
   "source": [
    "df.head()"
   ]
  },
  {
   "cell_type": "markdown",
   "metadata": {},
   "source": [
    "# Finding the info/datatypes of the variables"
   ]
  },
  {
   "cell_type": "code",
   "execution_count": 132,
   "metadata": {},
   "outputs": [
    {
     "name": "stdout",
     "output_type": "stream",
     "text": [
      "<class 'pandas.core.frame.DataFrame'>\n",
      "RangeIndex: 3200 entries, 0 to 3199\n",
      "Data columns (total 11 columns):\n",
      "SNo                     3200 non-null int64\n",
      "Date                    3200 non-null object\n",
      "Country                 3200 non-null object\n",
      "RegionCode              3200 non-null int64\n",
      "RegionName              3200 non-null object\n",
      "ProvinceCode            3200 non-null int64\n",
      "ProvinceName            3200 non-null object\n",
      "ProvinceAbbreviation    2650 non-null object\n",
      "Latitude                3200 non-null float64\n",
      "Longitude               3200 non-null float64\n",
      "TotalPositiveCases      3200 non-null int64\n",
      "dtypes: float64(2), int64(4), object(5)\n",
      "memory usage: 275.1+ KB\n"
     ]
    }
   ],
   "source": [
    "df.info()"
   ]
  },
  {
   "cell_type": "markdown",
   "metadata": {},
   "source": [
    "Observation: Dataset consists of 6 numeric and 5 categorical datatypes"
   ]
  },
  {
   "cell_type": "markdown",
   "metadata": {},
   "source": [
    "# Performing a statistical analysis"
   ]
  },
  {
   "cell_type": "code",
   "execution_count": 133,
   "metadata": {},
   "outputs": [
    {
     "data": {
      "text/html": [
       "<div>\n",
       "<style scoped>\n",
       "    .dataframe tbody tr th:only-of-type {\n",
       "        vertical-align: middle;\n",
       "    }\n",
       "\n",
       "    .dataframe tbody tr th {\n",
       "        vertical-align: top;\n",
       "    }\n",
       "\n",
       "    .dataframe thead th {\n",
       "        text-align: right;\n",
       "    }\n",
       "</style>\n",
       "<table border=\"1\" class=\"dataframe\">\n",
       "  <thead>\n",
       "    <tr style=\"text-align: right;\">\n",
       "      <th></th>\n",
       "      <th>SNo</th>\n",
       "      <th>RegionCode</th>\n",
       "      <th>ProvinceCode</th>\n",
       "      <th>Latitude</th>\n",
       "      <th>Longitude</th>\n",
       "      <th>TotalPositiveCases</th>\n",
       "    </tr>\n",
       "  </thead>\n",
       "  <tbody>\n",
       "    <tr>\n",
       "      <td>count</td>\n",
       "      <td>3200.000000</td>\n",
       "      <td>3200.000000</td>\n",
       "      <td>3200.000000</td>\n",
       "      <td>3200.000000</td>\n",
       "      <td>3200.000000</td>\n",
       "      <td>3200.000000</td>\n",
       "    </tr>\n",
       "    <tr>\n",
       "      <td>mean</td>\n",
       "      <td>1599.500000</td>\n",
       "      <td>10.140625</td>\n",
       "      <td>207.523438</td>\n",
       "      <td>35.868843</td>\n",
       "      <td>10.112000</td>\n",
       "      <td>87.860938</td>\n",
       "    </tr>\n",
       "    <tr>\n",
       "      <td>std</td>\n",
       "      <td>923.904757</td>\n",
       "      <td>5.915333</td>\n",
       "      <td>347.437319</td>\n",
       "      <td>16.074036</td>\n",
       "      <td>5.098389</td>\n",
       "      <td>309.423650</td>\n",
       "    </tr>\n",
       "    <tr>\n",
       "      <td>min</td>\n",
       "      <td>0.000000</td>\n",
       "      <td>1.000000</td>\n",
       "      <td>1.000000</td>\n",
       "      <td>0.000000</td>\n",
       "      <td>0.000000</td>\n",
       "      <td>0.000000</td>\n",
       "    </tr>\n",
       "    <tr>\n",
       "      <td>25%</td>\n",
       "      <td>799.750000</td>\n",
       "      <td>5.000000</td>\n",
       "      <td>32.750000</td>\n",
       "      <td>38.848542</td>\n",
       "      <td>8.583304</td>\n",
       "      <td>0.000000</td>\n",
       "    </tr>\n",
       "    <tr>\n",
       "      <td>50%</td>\n",
       "      <td>1599.500000</td>\n",
       "      <td>9.000000</td>\n",
       "      <td>64.500000</td>\n",
       "      <td>42.609815</td>\n",
       "      <td>11.188560</td>\n",
       "      <td>4.500000</td>\n",
       "    </tr>\n",
       "    <tr>\n",
       "      <td>75%</td>\n",
       "      <td>2399.250000</td>\n",
       "      <td>15.250000</td>\n",
       "      <td>96.250000</td>\n",
       "      <td>44.947714</td>\n",
       "      <td>13.593962</td>\n",
       "      <td>43.000000</td>\n",
       "    </tr>\n",
       "    <tr>\n",
       "      <td>max</td>\n",
       "      <td>3199.000000</td>\n",
       "      <td>20.000000</td>\n",
       "      <td>999.000000</td>\n",
       "      <td>46.499335</td>\n",
       "      <td>18.171897</td>\n",
       "      <td>4645.000000</td>\n",
       "    </tr>\n",
       "  </tbody>\n",
       "</table>\n",
       "</div>"
      ],
      "text/plain": [
       "               SNo   RegionCode  ProvinceCode     Latitude    Longitude  \\\n",
       "count  3200.000000  3200.000000   3200.000000  3200.000000  3200.000000   \n",
       "mean   1599.500000    10.140625    207.523438    35.868843    10.112000   \n",
       "std     923.904757     5.915333    347.437319    16.074036     5.098389   \n",
       "min       0.000000     1.000000      1.000000     0.000000     0.000000   \n",
       "25%     799.750000     5.000000     32.750000    38.848542     8.583304   \n",
       "50%    1599.500000     9.000000     64.500000    42.609815    11.188560   \n",
       "75%    2399.250000    15.250000     96.250000    44.947714    13.593962   \n",
       "max    3199.000000    20.000000    999.000000    46.499335    18.171897   \n",
       "\n",
       "       TotalPositiveCases  \n",
       "count         3200.000000  \n",
       "mean            87.860938  \n",
       "std            309.423650  \n",
       "min              0.000000  \n",
       "25%              0.000000  \n",
       "50%              4.500000  \n",
       "75%             43.000000  \n",
       "max           4645.000000  "
      ]
     },
     "execution_count": 133,
     "metadata": {},
     "output_type": "execute_result"
    }
   ],
   "source": [
    "df.describe()"
   ]
  },
  {
   "cell_type": "markdown",
   "metadata": {},
   "source": [
    "# Finding the shape of the dataset"
   ]
  },
  {
   "cell_type": "code",
   "execution_count": 134,
   "metadata": {},
   "outputs": [
    {
     "data": {
      "text/plain": [
       "(3200, 11)"
      ]
     },
     "execution_count": 134,
     "metadata": {},
     "output_type": "execute_result"
    }
   ],
   "source": [
    "df.shape"
   ]
  },
  {
   "cell_type": "markdown",
   "metadata": {},
   "source": [
    "Observation: Dataset consists of 3200 rows/observations and 8 attributes/columns"
   ]
  },
  {
   "cell_type": "markdown",
   "metadata": {},
   "source": [
    "# Dropping the columns which are not required for analysis"
   ]
  },
  {
   "cell_type": "code",
   "execution_count": 135,
   "metadata": {},
   "outputs": [],
   "source": [
    "df.drop(['SNo','Latitude','Longitude'],axis=1, inplace= True)"
   ]
  },
  {
   "cell_type": "code",
   "execution_count": 136,
   "metadata": {},
   "outputs": [
    {
     "data": {
      "text/html": [
       "<div>\n",
       "<style scoped>\n",
       "    .dataframe tbody tr th:only-of-type {\n",
       "        vertical-align: middle;\n",
       "    }\n",
       "\n",
       "    .dataframe tbody tr th {\n",
       "        vertical-align: top;\n",
       "    }\n",
       "\n",
       "    .dataframe thead th {\n",
       "        text-align: right;\n",
       "    }\n",
       "</style>\n",
       "<table border=\"1\" class=\"dataframe\">\n",
       "  <thead>\n",
       "    <tr style=\"text-align: right;\">\n",
       "      <th></th>\n",
       "      <th>Date</th>\n",
       "      <th>Country</th>\n",
       "      <th>RegionCode</th>\n",
       "      <th>RegionName</th>\n",
       "      <th>ProvinceCode</th>\n",
       "      <th>ProvinceName</th>\n",
       "      <th>ProvinceAbbreviation</th>\n",
       "      <th>TotalPositiveCases</th>\n",
       "    </tr>\n",
       "  </thead>\n",
       "  <tbody>\n",
       "    <tr>\n",
       "      <td>0</td>\n",
       "      <td>2020-02-24 18:00:00</td>\n",
       "      <td>ITA</td>\n",
       "      <td>13</td>\n",
       "      <td>Abruzzo</td>\n",
       "      <td>69</td>\n",
       "      <td>Chieti</td>\n",
       "      <td>CH</td>\n",
       "      <td>0</td>\n",
       "    </tr>\n",
       "    <tr>\n",
       "      <td>1</td>\n",
       "      <td>2020-02-24 18:00:00</td>\n",
       "      <td>ITA</td>\n",
       "      <td>13</td>\n",
       "      <td>Abruzzo</td>\n",
       "      <td>66</td>\n",
       "      <td>L'Aquila</td>\n",
       "      <td>AQ</td>\n",
       "      <td>0</td>\n",
       "    </tr>\n",
       "    <tr>\n",
       "      <td>2</td>\n",
       "      <td>2020-02-24 18:00:00</td>\n",
       "      <td>ITA</td>\n",
       "      <td>13</td>\n",
       "      <td>Abruzzo</td>\n",
       "      <td>68</td>\n",
       "      <td>Pescara</td>\n",
       "      <td>PE</td>\n",
       "      <td>0</td>\n",
       "    </tr>\n",
       "    <tr>\n",
       "      <td>3</td>\n",
       "      <td>2020-02-24 18:00:00</td>\n",
       "      <td>ITA</td>\n",
       "      <td>13</td>\n",
       "      <td>Abruzzo</td>\n",
       "      <td>67</td>\n",
       "      <td>Teramo</td>\n",
       "      <td>TE</td>\n",
       "      <td>0</td>\n",
       "    </tr>\n",
       "    <tr>\n",
       "      <td>4</td>\n",
       "      <td>2020-02-24 18:00:00</td>\n",
       "      <td>ITA</td>\n",
       "      <td>13</td>\n",
       "      <td>Abruzzo</td>\n",
       "      <td>979</td>\n",
       "      <td>In fase di definizione/aggiornamento</td>\n",
       "      <td>NaN</td>\n",
       "      <td>0</td>\n",
       "    </tr>\n",
       "  </tbody>\n",
       "</table>\n",
       "</div>"
      ],
      "text/plain": [
       "                  Date Country  RegionCode RegionName  ProvinceCode  \\\n",
       "0  2020-02-24 18:00:00     ITA          13    Abruzzo            69   \n",
       "1  2020-02-24 18:00:00     ITA          13    Abruzzo            66   \n",
       "2  2020-02-24 18:00:00     ITA          13    Abruzzo            68   \n",
       "3  2020-02-24 18:00:00     ITA          13    Abruzzo            67   \n",
       "4  2020-02-24 18:00:00     ITA          13    Abruzzo           979   \n",
       "\n",
       "                           ProvinceName ProvinceAbbreviation  \\\n",
       "0                                Chieti                   CH   \n",
       "1                              L'Aquila                   AQ   \n",
       "2                               Pescara                   PE   \n",
       "3                                Teramo                   TE   \n",
       "4  In fase di definizione/aggiornamento                  NaN   \n",
       "\n",
       "   TotalPositiveCases  \n",
       "0                   0  \n",
       "1                   0  \n",
       "2                   0  \n",
       "3                   0  \n",
       "4                   0  "
      ]
     },
     "execution_count": 136,
     "metadata": {},
     "output_type": "execute_result"
    }
   ],
   "source": [
    "df.head()"
   ]
  },
  {
   "cell_type": "markdown",
   "metadata": {},
   "source": [
    "# Converting the datatype of certain variables"
   ]
  },
  {
   "cell_type": "code",
   "execution_count": 137,
   "metadata": {},
   "outputs": [
    {
     "data": {
      "text/plain": [
       "Date                    object\n",
       "Country                 object\n",
       "RegionCode               int64\n",
       "RegionName              object\n",
       "ProvinceCode             int64\n",
       "ProvinceName            object\n",
       "ProvinceAbbreviation    object\n",
       "TotalPositiveCases       int64\n",
       "dtype: object"
      ]
     },
     "execution_count": 137,
     "metadata": {},
     "output_type": "execute_result"
    }
   ],
   "source": [
    "df.dtypes"
   ]
  },
  {
   "cell_type": "code",
   "execution_count": 138,
   "metadata": {},
   "outputs": [],
   "source": [
    "df['RegionCode']=df['RegionCode'].astype(object)"
   ]
  },
  {
   "cell_type": "code",
   "execution_count": 139,
   "metadata": {},
   "outputs": [],
   "source": [
    "df['ProvinceCode']=df['ProvinceCode'].astype(object)"
   ]
  },
  {
   "cell_type": "code",
   "execution_count": 140,
   "metadata": {},
   "outputs": [
    {
     "data": {
      "text/plain": [
       "Date                    object\n",
       "Country                 object\n",
       "RegionCode              object\n",
       "RegionName              object\n",
       "ProvinceCode            object\n",
       "ProvinceName            object\n",
       "ProvinceAbbreviation    object\n",
       "TotalPositiveCases       int64\n",
       "dtype: object"
      ]
     },
     "execution_count": 140,
     "metadata": {},
     "output_type": "execute_result"
    }
   ],
   "source": [
    "df.dtypes"
   ]
  },
  {
   "cell_type": "markdown",
   "metadata": {},
   "source": [
    "# Handling the datat of Date variable"
   ]
  },
  {
   "cell_type": "code",
   "execution_count": 141,
   "metadata": {},
   "outputs": [],
   "source": [
    "Datetime=df.Date.apply(lambda x:str(x).split())"
   ]
  },
  {
   "cell_type": "code",
   "execution_count": 142,
   "metadata": {},
   "outputs": [],
   "source": [
    "list_datetime=list(Datetime.values)"
   ]
  },
  {
   "cell_type": "code",
   "execution_count": 143,
   "metadata": {},
   "outputs": [],
   "source": [
    "date=[]\n",
    "for i in list_datetime:\n",
    "    date.append(i[0])"
   ]
  },
  {
   "cell_type": "code",
   "execution_count": 144,
   "metadata": {},
   "outputs": [],
   "source": [
    "df.Date=date"
   ]
  },
  {
   "cell_type": "code",
   "execution_count": 145,
   "metadata": {},
   "outputs": [
    {
     "data": {
      "text/html": [
       "<div>\n",
       "<style scoped>\n",
       "    .dataframe tbody tr th:only-of-type {\n",
       "        vertical-align: middle;\n",
       "    }\n",
       "\n",
       "    .dataframe tbody tr th {\n",
       "        vertical-align: top;\n",
       "    }\n",
       "\n",
       "    .dataframe thead th {\n",
       "        text-align: right;\n",
       "    }\n",
       "</style>\n",
       "<table border=\"1\" class=\"dataframe\">\n",
       "  <thead>\n",
       "    <tr style=\"text-align: right;\">\n",
       "      <th></th>\n",
       "      <th>Date</th>\n",
       "      <th>Country</th>\n",
       "      <th>RegionCode</th>\n",
       "      <th>RegionName</th>\n",
       "      <th>ProvinceCode</th>\n",
       "      <th>ProvinceName</th>\n",
       "      <th>ProvinceAbbreviation</th>\n",
       "      <th>TotalPositiveCases</th>\n",
       "    </tr>\n",
       "  </thead>\n",
       "  <tbody>\n",
       "    <tr>\n",
       "      <td>0</td>\n",
       "      <td>2020-02-24</td>\n",
       "      <td>ITA</td>\n",
       "      <td>13</td>\n",
       "      <td>Abruzzo</td>\n",
       "      <td>69</td>\n",
       "      <td>Chieti</td>\n",
       "      <td>CH</td>\n",
       "      <td>0</td>\n",
       "    </tr>\n",
       "    <tr>\n",
       "      <td>1</td>\n",
       "      <td>2020-02-24</td>\n",
       "      <td>ITA</td>\n",
       "      <td>13</td>\n",
       "      <td>Abruzzo</td>\n",
       "      <td>66</td>\n",
       "      <td>L'Aquila</td>\n",
       "      <td>AQ</td>\n",
       "      <td>0</td>\n",
       "    </tr>\n",
       "    <tr>\n",
       "      <td>2</td>\n",
       "      <td>2020-02-24</td>\n",
       "      <td>ITA</td>\n",
       "      <td>13</td>\n",
       "      <td>Abruzzo</td>\n",
       "      <td>68</td>\n",
       "      <td>Pescara</td>\n",
       "      <td>PE</td>\n",
       "      <td>0</td>\n",
       "    </tr>\n",
       "    <tr>\n",
       "      <td>3</td>\n",
       "      <td>2020-02-24</td>\n",
       "      <td>ITA</td>\n",
       "      <td>13</td>\n",
       "      <td>Abruzzo</td>\n",
       "      <td>67</td>\n",
       "      <td>Teramo</td>\n",
       "      <td>TE</td>\n",
       "      <td>0</td>\n",
       "    </tr>\n",
       "    <tr>\n",
       "      <td>4</td>\n",
       "      <td>2020-02-24</td>\n",
       "      <td>ITA</td>\n",
       "      <td>13</td>\n",
       "      <td>Abruzzo</td>\n",
       "      <td>979</td>\n",
       "      <td>In fase di definizione/aggiornamento</td>\n",
       "      <td>NaN</td>\n",
       "      <td>0</td>\n",
       "    </tr>\n",
       "  </tbody>\n",
       "</table>\n",
       "</div>"
      ],
      "text/plain": [
       "         Date Country RegionCode RegionName ProvinceCode  \\\n",
       "0  2020-02-24     ITA         13    Abruzzo           69   \n",
       "1  2020-02-24     ITA         13    Abruzzo           66   \n",
       "2  2020-02-24     ITA         13    Abruzzo           68   \n",
       "3  2020-02-24     ITA         13    Abruzzo           67   \n",
       "4  2020-02-24     ITA         13    Abruzzo          979   \n",
       "\n",
       "                           ProvinceName ProvinceAbbreviation  \\\n",
       "0                                Chieti                   CH   \n",
       "1                              L'Aquila                   AQ   \n",
       "2                               Pescara                   PE   \n",
       "3                                Teramo                   TE   \n",
       "4  In fase di definizione/aggiornamento                  NaN   \n",
       "\n",
       "   TotalPositiveCases  \n",
       "0                   0  \n",
       "1                   0  \n",
       "2                   0  \n",
       "3                   0  \n",
       "4                   0  "
      ]
     },
     "execution_count": 145,
     "metadata": {},
     "output_type": "execute_result"
    }
   ],
   "source": [
    "df.head()"
   ]
  },
  {
   "cell_type": "markdown",
   "metadata": {},
   "source": [
    "# Converting Date variable to datetime datatype"
   ]
  },
  {
   "cell_type": "code",
   "execution_count": 54,
   "metadata": {},
   "outputs": [],
   "source": [
    "df.Date=df1.Date.astype('datetime64')"
   ]
  },
  {
   "cell_type": "code",
   "execution_count": 55,
   "metadata": {},
   "outputs": [
    {
     "data": {
      "text/plain": [
       "Date                    datetime64[ns]\n",
       "Country                         object\n",
       "RegionCode                      object\n",
       "RegionName                      object\n",
       "ProvinceCode                    object\n",
       "ProvinceName                    object\n",
       "ProvinceAbbreviation            object\n",
       "TotalPositiveCases               int64\n",
       "dtype: object"
      ]
     },
     "execution_count": 55,
     "metadata": {},
     "output_type": "execute_result"
    }
   ],
   "source": [
    "df.dtypes"
   ]
  },
  {
   "cell_type": "markdown",
   "metadata": {},
   "source": [
    "# Checking for any null values in dataset"
   ]
  },
  {
   "cell_type": "code",
   "execution_count": 146,
   "metadata": {},
   "outputs": [
    {
     "data": {
      "text/plain": [
       "ProvinceAbbreviation    550\n",
       "TotalPositiveCases        0\n",
       "ProvinceName              0\n",
       "ProvinceCode              0\n",
       "RegionName                0\n",
       "RegionCode                0\n",
       "Country                   0\n",
       "Date                      0\n",
       "dtype: int64"
      ]
     },
     "execution_count": 146,
     "metadata": {},
     "output_type": "execute_result"
    }
   ],
   "source": [
    "df.isnull().sum().sort_values(ascending=False)"
   ]
  },
  {
   "cell_type": "markdown",
   "metadata": {},
   "source": [
    "Observation: Province Abbreviation consists 550 NaN values."
   ]
  },
  {
   "cell_type": "markdown",
   "metadata": {},
   "source": [
    "# Handling Null values"
   ]
  },
  {
   "cell_type": "code",
   "execution_count": 147,
   "metadata": {},
   "outputs": [],
   "source": [
    "df.ProvinceAbbreviation.fillna('Not known', inplace=True)"
   ]
  },
  {
   "cell_type": "markdown",
   "metadata": {},
   "source": [
    "Inference: Since Province name is available, Province abbreviation not all that necessary"
   ]
  },
  {
   "cell_type": "code",
   "execution_count": 148,
   "metadata": {},
   "outputs": [
    {
     "data": {
      "text/plain": [
       "TotalPositiveCases      0\n",
       "ProvinceAbbreviation    0\n",
       "ProvinceName            0\n",
       "ProvinceCode            0\n",
       "RegionName              0\n",
       "RegionCode              0\n",
       "Country                 0\n",
       "Date                    0\n",
       "dtype: int64"
      ]
     },
     "execution_count": 148,
     "metadata": {},
     "output_type": "execute_result"
    }
   ],
   "source": [
    "df.isnull().sum().sort_values(ascending=False)"
   ]
  },
  {
   "cell_type": "code",
   "execution_count": 149,
   "metadata": {},
   "outputs": [
    {
     "data": {
      "text/plain": [
       "<matplotlib.axes._subplots.AxesSubplot at 0x188415f9808>"
      ]
     },
     "execution_count": 149,
     "metadata": {},
     "output_type": "execute_result"
    },
    {
     "data": {
      "image/png": "[encoded data removed]",
      "text/plain": [
       "<Figure size 576x432 with 2 Axes>"
      ]
     },
     "metadata": {
      "needs_background": "light"
     },
     "output_type": "display_data"
    }
   ],
   "source": [
    "plt.subplots(figsize=(8,6))\n",
    "sns.heatmap(df.isnull())"
   ]
  },
  {
   "cell_type": "markdown",
   "metadata": {},
   "source": [
    "# Manual Feature Engineering"
   ]
  },
  {
   "cell_type": "code",
   "execution_count": null,
   "metadata": {},
   "outputs": [],
   "source": []
  },
  {
   "cell_type": "markdown",
   "metadata": {},
   "source": [
    "# Few Observations via vizualizations"
   ]
  },
  {
   "cell_type": "code",
   "execution_count": 150,
   "metadata": {},
   "outputs": [
    {
     "data": {
      "text/html": [
       "<div>\n",
       "<style scoped>\n",
       "    .dataframe tbody tr th:only-of-type {\n",
       "        vertical-align: middle;\n",
       "    }\n",
       "\n",
       "    .dataframe tbody tr th {\n",
       "        vertical-align: top;\n",
       "    }\n",
       "\n",
       "    .dataframe thead th {\n",
       "        text-align: right;\n",
       "    }\n",
       "</style>\n",
       "<table border=\"1\" class=\"dataframe\">\n",
       "  <thead>\n",
       "    <tr style=\"text-align: right;\">\n",
       "      <th></th>\n",
       "      <th>Date</th>\n",
       "      <th>Country</th>\n",
       "      <th>RegionCode</th>\n",
       "      <th>RegionName</th>\n",
       "      <th>ProvinceCode</th>\n",
       "      <th>ProvinceName</th>\n",
       "      <th>ProvinceAbbreviation</th>\n",
       "      <th>TotalPositiveCases</th>\n",
       "    </tr>\n",
       "  </thead>\n",
       "  <tbody>\n",
       "    <tr>\n",
       "      <td>0</td>\n",
       "      <td>2020-02-24</td>\n",
       "      <td>ITA</td>\n",
       "      <td>13</td>\n",
       "      <td>Abruzzo</td>\n",
       "      <td>69</td>\n",
       "      <td>Chieti</td>\n",
       "      <td>CH</td>\n",
       "      <td>0</td>\n",
       "    </tr>\n",
       "    <tr>\n",
       "      <td>1</td>\n",
       "      <td>2020-02-24</td>\n",
       "      <td>ITA</td>\n",
       "      <td>13</td>\n",
       "      <td>Abruzzo</td>\n",
       "      <td>66</td>\n",
       "      <td>L'Aquila</td>\n",
       "      <td>AQ</td>\n",
       "      <td>0</td>\n",
       "    </tr>\n",
       "    <tr>\n",
       "      <td>2</td>\n",
       "      <td>2020-02-24</td>\n",
       "      <td>ITA</td>\n",
       "      <td>13</td>\n",
       "      <td>Abruzzo</td>\n",
       "      <td>68</td>\n",
       "      <td>Pescara</td>\n",
       "      <td>PE</td>\n",
       "      <td>0</td>\n",
       "    </tr>\n",
       "    <tr>\n",
       "      <td>3</td>\n",
       "      <td>2020-02-24</td>\n",
       "      <td>ITA</td>\n",
       "      <td>13</td>\n",
       "      <td>Abruzzo</td>\n",
       "      <td>67</td>\n",
       "      <td>Teramo</td>\n",
       "      <td>TE</td>\n",
       "      <td>0</td>\n",
       "    </tr>\n",
       "    <tr>\n",
       "      <td>4</td>\n",
       "      <td>2020-02-24</td>\n",
       "      <td>ITA</td>\n",
       "      <td>13</td>\n",
       "      <td>Abruzzo</td>\n",
       "      <td>979</td>\n",
       "      <td>In fase di definizione/aggiornamento</td>\n",
       "      <td>Not known</td>\n",
       "      <td>0</td>\n",
       "    </tr>\n",
       "  </tbody>\n",
       "</table>\n",
       "</div>"
      ],
      "text/plain": [
       "         Date Country RegionCode RegionName ProvinceCode  \\\n",
       "0  2020-02-24     ITA         13    Abruzzo           69   \n",
       "1  2020-02-24     ITA         13    Abruzzo           66   \n",
       "2  2020-02-24     ITA         13    Abruzzo           68   \n",
       "3  2020-02-24     ITA         13    Abruzzo           67   \n",
       "4  2020-02-24     ITA         13    Abruzzo          979   \n",
       "\n",
       "                           ProvinceName ProvinceAbbreviation  \\\n",
       "0                                Chieti                   CH   \n",
       "1                              L'Aquila                   AQ   \n",
       "2                               Pescara                   PE   \n",
       "3                                Teramo                   TE   \n",
       "4  In fase di definizione/aggiornamento            Not known   \n",
       "\n",
       "   TotalPositiveCases  \n",
       "0                   0  \n",
       "1                   0  \n",
       "2                   0  \n",
       "3                   0  \n",
       "4                   0  "
      ]
     },
     "execution_count": 150,
     "metadata": {},
     "output_type": "execute_result"
    }
   ],
   "source": [
    " df.head()"
   ]
  },
  {
   "cell_type": "markdown",
   "metadata": {},
   "source": [
    "# Cumulative distplot to find the total number of positive cases"
   ]
  },
  {
   "cell_type": "code",
   "execution_count": 197,
   "metadata": {},
   "outputs": [
    {
     "data": {
      "text/plain": [
       "<matplotlib.axes._subplots.AxesSubplot at 0x1884e6a5188>"
      ]
     },
     "execution_count": 197,
     "metadata": {},
     "output_type": "execute_result"
    },
    {
     "data": {
      "image/png": "[encoded data removed]",
      "text/plain": [
       "<Figure size 432x288 with 1 Axes>"
      ]
     },
     "metadata": {
      "needs_background": "light"
     },
     "output_type": "display_data"
    }
   ],
   "source": [
    "sns.distplot(df.TotalPositiveCases, hist_kws=dict(cumulative=True) )"
   ]
  },
  {
   "cell_type": "markdown",
   "metadata": {},
   "source": [
    "Inference:Total Positive cases increasing rapidly as the days passing by."
   ]
  },
  {
   "cell_type": "markdown",
   "metadata": {},
   "source": [
    "# Finding the total number of positive cases per region"
   ]
  },
  {
   "cell_type": "code",
   "execution_count": 194,
   "metadata": {},
   "outputs": [],
   "source": [
    "data=df[df.Date=='2020-03-19']"
   ]
  },
  {
   "cell_type": "code",
   "execution_count": 310,
   "metadata": {},
   "outputs": [
    {
     "data": {
      "image/png": "[encoded data removed]",
      "text/plain": [
       "<Figure size 864x720 with 1 Axes>"
      ]
     },
     "metadata": {},
     "output_type": "display_data"
    }
   ],
   "source": [
    "plt.subplots(figsize=(12,10))\n",
    "plotting=data.groupby('RegionName')['TotalPositiveCases'].sum().plot(kind='pie',autopct='%.2f')"
   ]
  },
  {
   "cell_type": "markdown",
   "metadata": {},
   "source": [
    "Observation: Lombardia region the highest number of total positive cases and Calabria has the least"
   ]
  },
  {
   "cell_type": "markdown",
   "metadata": {},
   "source": [
    "# Finding the total number of positive cases per day across all the regions"
   ]
  },
  {
   "cell_type": "code",
   "execution_count": 208,
   "metadata": {},
   "outputs": [
    {
     "data": {
      "text/plain": [
       "Text(0.5, 0, 'Total positive cases')"
      ]
     },
     "execution_count": 208,
     "metadata": {},
     "output_type": "execute_result"
    },
    {
     "data": {
      "image/png": "[encoded data removed]",
      "text/plain": [
       "<Figure size 864x576 with 1 Axes>"
      ]
     },
     "metadata": {
      "needs_background": "light"
     },
     "output_type": "display_data"
    }
   ],
   "source": [
    "plt.subplots(figsize=(12,8))\n",
    "df.groupby('Date')['TotalPositiveCases'].sum().sort_values(ascending=False).plot(kind='barh')\n",
    "plt.xlabel('Total positive cases')"
   ]
  },
  {
   "cell_type": "markdown",
   "metadata": {},
   "source": [
    "Observation: Each day total positive cases are increasing and the spread of COVID-19 "
   ]
  },
  {
   "cell_type": "markdown",
   "metadata": {},
   "source": [
    "# Highest cases reported region's day wise inspection "
   ]
  },
  {
   "cell_type": "markdown",
   "metadata": {},
   "source": [
    "- Finding the Region which is most affected"
   ]
  },
  {
   "cell_type": "code",
   "execution_count": 234,
   "metadata": {},
   "outputs": [
    {
     "data": {
      "text/plain": [
       "RegionName\n",
       "Lombardia    19884\n",
       "Name: TotalPositiveCases, dtype: int64"
      ]
     },
     "execution_count": 234,
     "metadata": {},
     "output_type": "execute_result"
    }
   ],
   "source": [
    "region=data.groupby('RegionName')['TotalPositiveCases'].sum().sort_values(ascending=False).head(1)\n",
    "region"
   ]
  },
  {
   "cell_type": "markdown",
   "metadata": {},
   "source": [
    "- Forming a dataframe by grouping the dates and finding total count"
   ]
  },
  {
   "cell_type": "code",
   "execution_count": 236,
   "metadata": {},
   "outputs": [],
   "source": [
    "MaxCasesRegion=df[df['RegionName']==region.index[0]]"
   ]
  },
  {
   "cell_type": "code",
   "execution_count": 244,
   "metadata": {},
   "outputs": [],
   "source": [
    "DetailsMaxCasesRegion=MaxCasesRegion.groupby('Date')['TotalPositiveCases'].sum()"
   ]
  },
  {
   "cell_type": "code",
   "execution_count": 246,
   "metadata": {},
   "outputs": [],
   "source": [
    "dfDMCR=pd.DataFrame(DetailsMaxCasesRegion)"
   ]
  },
  {
   "cell_type": "code",
   "execution_count": 250,
   "metadata": {},
   "outputs": [
    {
     "data": {
      "text/html": [
       "<div>\n",
       "<style scoped>\n",
       "    .dataframe tbody tr th:only-of-type {\n",
       "        vertical-align: middle;\n",
       "    }\n",
       "\n",
       "    .dataframe tbody tr th {\n",
       "        vertical-align: top;\n",
       "    }\n",
       "\n",
       "    .dataframe thead th {\n",
       "        text-align: right;\n",
       "    }\n",
       "</style>\n",
       "<table border=\"1\" class=\"dataframe\">\n",
       "  <thead>\n",
       "    <tr style=\"text-align: right;\">\n",
       "      <th></th>\n",
       "      <th>TotalPositiveCases</th>\n",
       "    </tr>\n",
       "    <tr>\n",
       "      <th>Date</th>\n",
       "      <th></th>\n",
       "    </tr>\n",
       "  </thead>\n",
       "  <tbody>\n",
       "    <tr>\n",
       "      <td>2020-02-24</td>\n",
       "      <td>0</td>\n",
       "    </tr>\n",
       "    <tr>\n",
       "      <td>2020-02-25</td>\n",
       "      <td>240</td>\n",
       "    </tr>\n",
       "    <tr>\n",
       "      <td>2020-02-26</td>\n",
       "      <td>258</td>\n",
       "    </tr>\n",
       "  </tbody>\n",
       "</table>\n",
       "</div>"
      ],
      "text/plain": [
       "            TotalPositiveCases\n",
       "Date                          \n",
       "2020-02-24                   0\n",
       "2020-02-25                 240\n",
       "2020-02-26                 258"
      ]
     },
     "execution_count": 250,
     "metadata": {},
     "output_type": "execute_result"
    }
   ],
   "source": [
    "dfDMCR.head(3)"
   ]
  },
  {
   "cell_type": "markdown",
   "metadata": {},
   "source": [
    "- Using Feature enginerring to create a new column for actual positive cases per day"
   ]
  },
  {
   "cell_type": "code",
   "execution_count": 264,
   "metadata": {},
   "outputs": [],
   "source": [
    "listing=[0]\n",
    "for i in range(1,len(dfDMCR.TotalPositiveCases)):\n",
    "    listing.append(dfDMCR.TotalPositiveCases[i]-dfDMCR.TotalPositiveCases[i-1])"
   ]
  },
  {
   "cell_type": "code",
   "execution_count": 265,
   "metadata": {},
   "outputs": [],
   "source": [
    "dfDMCR['PositiveCasesPerDay']=listing"
   ]
  },
  {
   "cell_type": "code",
   "execution_count": 266,
   "metadata": {},
   "outputs": [
    {
     "data": {
      "text/html": [
       "<div>\n",
       "<style scoped>\n",
       "    .dataframe tbody tr th:only-of-type {\n",
       "        vertical-align: middle;\n",
       "    }\n",
       "\n",
       "    .dataframe tbody tr th {\n",
       "        vertical-align: top;\n",
       "    }\n",
       "\n",
       "    .dataframe thead th {\n",
       "        text-align: right;\n",
       "    }\n",
       "</style>\n",
       "<table border=\"1\" class=\"dataframe\">\n",
       "  <thead>\n",
       "    <tr style=\"text-align: right;\">\n",
       "      <th></th>\n",
       "      <th>TotalPositiveCases</th>\n",
       "      <th>PositiveCasesPerDay</th>\n",
       "    </tr>\n",
       "    <tr>\n",
       "      <th>Date</th>\n",
       "      <th></th>\n",
       "      <th></th>\n",
       "    </tr>\n",
       "  </thead>\n",
       "  <tbody>\n",
       "    <tr>\n",
       "      <td>2020-02-24</td>\n",
       "      <td>0</td>\n",
       "      <td>0</td>\n",
       "    </tr>\n",
       "    <tr>\n",
       "      <td>2020-02-25</td>\n",
       "      <td>240</td>\n",
       "      <td>240</td>\n",
       "    </tr>\n",
       "    <tr>\n",
       "      <td>2020-02-26</td>\n",
       "      <td>258</td>\n",
       "      <td>18</td>\n",
       "    </tr>\n",
       "  </tbody>\n",
       "</table>\n",
       "</div>"
      ],
      "text/plain": [
       "            TotalPositiveCases  PositiveCasesPerDay\n",
       "Date                                               \n",
       "2020-02-24                   0                    0\n",
       "2020-02-25                 240                  240\n",
       "2020-02-26                 258                   18"
      ]
     },
     "execution_count": 266,
     "metadata": {},
     "output_type": "execute_result"
    }
   ],
   "source": [
    "dfDMCR.head(3)"
   ]
  },
  {
   "cell_type": "markdown",
   "metadata": {},
   "source": [
    "- Plotting the postive cases per day"
   ]
  },
  {
   "cell_type": "code",
   "execution_count": 293,
   "metadata": {},
   "outputs": [
    {
     "data": {
      "text/plain": [
       "<matplotlib.axes._subplots.AxesSubplot at 0x188483db408>"
      ]
     },
     "execution_count": 293,
     "metadata": {},
     "output_type": "execute_result"
    },
    {
     "data": {
      "image/png": "[encoded data removed]",
      "text/plain": [
       "<Figure size 720x720 with 1 Axes>"
      ]
     },
     "metadata": {
      "needs_background": "light"
     },
     "output_type": "display_data"
    }
   ],
   "source": [
    "plt.subplots(figsize=(10,10))\n",
    "sns.barplot(dfDMCR.PositiveCasesPerDay, dfDMCR.index)"
   ]
  },
  {
   "cell_type": "markdown",
   "metadata": {},
   "source": [
    "Observation: Highest number cases was reported on 19th of March 2020 and the atleast 50 cases were test positive everyday after 27th of February"
   ]
  },
  {
   "cell_type": "code",
   "execution_count": null,
   "metadata": {},
   "outputs": [],
   "source": []
  }
 ],
 "metadata": {
  "kernelspec": {
   "display_name": "Python 3",
   "language": "python",
   "name": "python3"
  },
  "language_info": {
   "codemirror_mode": {
    "name": "ipython",
    "version": 3
   },
   "file_extension": ".py",
   "mimetype": "text/x-python",
   "name": "python",
   "nbconvert_exporter": "python",
   "pygments_lexer": "ipython3",
   "version": "3.7.4"
  }
 },
 "nbformat": 4,
 "nbformat_minor": 2
}
